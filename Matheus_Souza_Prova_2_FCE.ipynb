{
  "nbformat": 4,
  "nbformat_minor": 0,
  "metadata": {
    "colab": {
      "provenance": []
    },
    "kernelspec": {
      "name": "python3",
      "display_name": "Python 3"
    },
    "language_info": {
      "name": "python"
    }
  },
  "cells": [
    {
      "cell_type": "markdown",
      "source": [
        "#Questão 1\n",
        "\n",
        "####A Programação Orientada a Equações (POE) é um paradigma que permite ao programador descrever um problema com foco em sua estrutura lógica, aproximando a modelagem computacional das equações matemáticas do processo físico.\n",
        "\n",
        "#### (a) Explique como a POE difere da programação imperativa, considerando o papel do programador e o processo de obtenção da solução.\n",
        "\n",
        "#### (b) Em que tipo de problema de engenharia a POE é mais vantajosa? Cite pelo menos um exemplo prático — diferente dos discutidos em sala.\n",
        "\n",
        "#### (c) Um dos princípios mais valorizados da POE é a flexibilidade. O que esse princípio significa na prática? Por que ele é útil para o engenheiro químico?"
      ],
      "metadata": {
        "id": "imCMO_b4SCJn"
      }
    },
    {
      "cell_type": "markdown",
      "source": [
        "**R:**\n",
        "(a) A POE busca utilizar, interligar e reaproveitar funções durante o código, busca criar um código genérico que possa ser reutilizado para outros casos de um mesmo problema. Já a programação imperativa é mais direta e linear seguindo o problema, e muitas vezes tendo uma solução para um caso especifico somente. Na POE a pessoa que usa o programa consegue definir os valores de entrada (sem precisar ter acesso a parte do código que execulta as contas) obtendo os valores de entrada, enquanto na programação imperativa, os valores já são previamente determinados para resolver o problema. Além disso é possível definir os dados em uma classe tornando melhor a organização do código."
      ],
      "metadata": {
        "id": "xSy7iQuXSHvO"
      }
    },
    {
      "cell_type": "markdown",
      "source": [
        "**R:**\n",
        "(b) Um caso onde algo vai receber diversas entradas e você precisa calcular todas as vezes. Ex: Você tem uma função que descreve o comportamento de uma reação e quer determinar um tempo ideal de acordo com a temperatura, onde varios testes serão realizados, nesse caso é interessante recorrer a POE, pois basta apenas trocar a informção da temperatura e será possível observar o comportamento e análisar qual dos resultados foi mais satisfatório."
      ],
      "metadata": {
        "id": "LWHfxN7-TJnt"
      }
    },
    {
      "cell_type": "markdown",
      "source": [
        "**R:**\n",
        "(*c*) Uma vez com um codigo pronto, para um mesmo problema com outras condições, basta apenas mudar as condições que o código resolve o seu problema de forma muito mais prática, sem ter que programar qause que do zero tudo."
      ],
      "metadata": {
        "id": "aRUEWKw_TJQs"
      }
    },
    {
      "cell_type": "markdown",
      "source": [
        "#Questão 2\n",
        "\n",
        "####Ao desenvolver soluções computacionais, a organização do código é essencial para sua manutenção, reusabilidade e adaptação a novos cenários.\n",
        "\n",
        "####(a) Explique o papel da estrutura @dataclass em Python na organização dos códigos. Por que ela é especialmente útil em sistemas com muitos parâmetros de entrada?\n",
        "\n",
        "####(b) Por que se recomenda salvar as soluções em repositórios como o GitHub? Cite três benefícios práticos, relacionando-os com a prática profissional ou acadêmica."
      ],
      "metadata": {
        "id": "PneH2Kr_TJKY"
      }
    },
    {
      "cell_type": "markdown",
      "source": [
        "**R:**\n",
        "(a) Ela é muito útil para evitar uma poluição de informações em uma função. Por exemplo: Uma função que descreve um Reator e precisa receber as seguintes informações: vazão de entrada, vazão de saida, concentração de entrada, concetração de saida e o coeficiente de reação. É muita informação pra aicionar na entrada de uma função, e não necessáriamente vai ser informado na ordem certa por algum usuário, portanto podemos criar uma classe reator que tem esse paramêtros citados acima, e a função recebe os parametros em uma única entrada e não em 5, dentro da função ela vai buscar nos parâetros o parâmetro especifico que ela precisa. Isso facilita muito a organização do código.  "
      ],
      "metadata": {
        "id": "-61fFCH_T2WW"
      }
    },
    {
      "cell_type": "markdown",
      "source": [
        "**R:**\n",
        "(b) Você terá o seu trabalho salvo em um repositório, ou seja um arquivo externo, caso aconteca algum problema no seu armazenamento local, seu trabalho está salvo em outro lugar. Além disso você pode organizar todos os seus trabalhos lá.\n",
        "\n",
        "Benefícios: Você tem um portifólio do que você realizou, isso pode te ajudar a entrar no mercado de trabalho, pois é como se fosse um curriculo.\n",
        "\n",
        "Você pode salvar o seus trabalhos em um ambiente externo seguro, podendo acessar de outros lugar fora o seu computador pessoal. Além de poder salvar todas as etapas realizadas.\n",
        "\n",
        "Facilita o trabalho em grupos, tanto na faculdade como no mercado de trabalho, onde todos podem acessar os códigos via github para ter acesso e poder fazer atualizações."
      ],
      "metadata": {
        "id": "3Y5Vzhy_T6pV"
      }
    },
    {
      "cell_type": "markdown",
      "source": [
        "#Questão 3\n",
        "\n",
        "####**Fermentação alcoólica com cinética dependente da temperatura** - Um processo em batelada converte glicose em etanol e CO<sub>2</sub>. A taxa de consumo da glicose depende da temperatura segundo a expressão:\n",
        "$$k(T) = 464.8 ⋅ exp\\left(\\frac{−3985}{T(◦C) + 273}\\right) [L/min]$$\n",
        "\n",
        "####A cinética é de primeira ordem, tal que:\n",
        "$$ \\frac{dS}{dt} = −k(T) ⋅ S $$\n",
        "\n",
        "####Considerando concentração inicial $S(t = 0)$ de glicose igual a $100 g/L$ e temperatura constante de $35°C$, implemente uma solução computacional para simular a concentração de glicose ao longo de 24 horas. Qual o valor final da concentração de glicose? O que acontece se a temperatura for aumentada para $50°C$?"
      ],
      "metadata": {
        "id": "lrCJHlU3T9D0"
      }
    },
    {
      "cell_type": "markdown",
      "source": [
        "**R:**"
      ],
      "metadata": {
        "id": "ncpkxDhOw0Rg"
      }
    },
    {
      "cell_type": "code",
      "source": [
        "from scipy.integrate import solve_ivp\n",
        "import numpy as np\n",
        "from dataclasses import dataclass\n",
        "\n",
        "#Classe\n",
        "@dataclass()\n",
        "class Parametros_Cinetica:\n",
        "    \"\"\"\n",
        "    Classe que armazena os parâmetros da cinética de fermentação.\n",
        "\n",
        "    Atributos:\n",
        "        T (float): Temperatura do processo em graus Celsius (°C).\n",
        "        S0 (float): Concentração inicial de glicose (g/L).\n",
        "        ti (float): Tempo inicial da simulação (min).\n",
        "        tf (float): Tempo final da simulação (min).\n",
        "    \"\"\"\n",
        "    T: float = 35\n",
        "    S0: float = 100\n",
        "    ti: float = 0\n",
        "    tf: float = 24*60 # 24 horas em minutos"
      ],
      "metadata": {
        "id": "FsCLBozuxAGE"
      },
      "execution_count": 7,
      "outputs": []
    },
    {
      "cell_type": "code",
      "source": [
        "#Módulo - Funções\n",
        "def k(params):\n",
        "    \"\"\"\n",
        "    Calcula a constante cinética k(T), dependente da temperatura.\n",
        "\n",
        "    Args:\n",
        "        params (Parametros_Cinetica): Objeto com os parâmetros da simulação.\n",
        "\n",
        "    Returns:\n",
        "        float: Valor da constante cinética k (L/min).\n",
        "    \"\"\"\n",
        "    func = 464.8*np.exp((-3985)/(params.T + 273))\n",
        "    return func\n",
        "\n",
        "def dSdt(t, S, params):\n",
        "    \"\"\"\n",
        "   Define a equação diferencial da cinética de primeira ordem: dS/dt = -k * S\n",
        "\n",
        "   Args:\n",
        "       t (float): Tempo atual da simulação (min).\n",
        "       S (float): Concentração atual de glicose (g/L).\n",
        "       params (Parametros_Cinetica): Parâmetros do processo.\n",
        "\n",
        "   Returns:\n",
        "       float: Derivada de S em relação ao tempo.\n",
        "   \"\"\"\n",
        "    dSdt = -k(params)*S\n",
        "    return dSdt\n",
        "\n",
        "def ResolveEDO(params):\n",
        "    \"\"\"\n",
        "   Resolve numericamente a equação diferencial da cinética usando solve_ivp.\n",
        "\n",
        "   Args:\n",
        "       params (Parametros_Cinetica): Parâmetros do processo.\n",
        "\n",
        "   Returns:\n",
        "       tuple:\n",
        "           - t (np.ndarray): Vetor de tempo (min).\n",
        "           - S (np.ndarray): Concentração de glicose ao longo do tempo (g/L).\n",
        "   \"\"\"\n",
        "    S0 = params.S0\n",
        "    tempo = [params.ti, params.tf]\n",
        "    teval = np.linspace(tempo[0], tempo[-1], 1000)\n",
        "    sol = solve_ivp(dSdt, tempo, [S0], t_eval = teval, args = (params,), method = 'BDF')\n",
        "    return sol.t, sol.y[0]"
      ],
      "metadata": {
        "id": "ZFjE4reYIymA"
      },
      "execution_count": 8,
      "outputs": []
    },
    {
      "cell_type": "code",
      "source": [
        "#Módulo - Imprime os resultados\n",
        "conjunto = [Parametros_Cinetica(), # T = 35°C\n",
        "            Parametros_Cinetica(T = 50)] # T = 50°C\n",
        "\n",
        "for params in conjunto:\n",
        "    t, S = ResolveEDO(params)\n",
        "    print (f\"Para a Temperatura de {params.T}°C, a concentração é S = {S[-1]:.2f}g/L\")"
      ],
      "metadata": {
        "colab": {
          "base_uri": "https://localhost:8080/"
        },
        "id": "5Rsc2E_v4ld5",
        "outputId": "c9394a6b-c484-4aea-a403-08dc3d7efa97"
      },
      "execution_count": 9,
      "outputs": [
        {
          "output_type": "stream",
          "name": "stdout",
          "text": [
            "Para a Temperatura de 35°C, a concentração é S = 20.01g/L\n",
            "Para a Temperatura de 50°C, a concentração é S = 5.31g/L\n"
          ]
        }
      ]
    },
    {
      "cell_type": "markdown",
      "source": [
        "#Questão 4\n",
        "\n",
        "####**Equilíbrio em coluna de destilação com seletividade dependente da temperatura** - Um processo modelado com três estágios separa uma mistura etanol/água. A fração molar líquida de etanol ($xi$) e a temperatura ($Ti$) em cada estágio são conhecidas. O equilíbrio líquido-vapor é dado por:\n",
        "\n",
        "$$yi = \\frac {α(Ti) · xi} {1 + [α(Ti) − 1] · xi}$$\n",
        "\n",
        "####com a seguinte expressão linear para a seletividade  $α(T) = 2.5 − 0.01 · (T − 78)$.\n",
        "####Os dados para os três estágios são:\n",
        "\n",
        "<div align=\"center\">\n",
        "\n",
        "|Estágio|$xi$|$Ti$ (°C)|\n",
        "|:--:|:--:|:--:|\n",
        "|1 (topo)| 0.20| 78|\n",
        "|2 (alimentação)| 0.40| 80|\n",
        "|3 (fundo)| 0.60| 85|\n",
        "</div>\n",
        "\n",
        "####Escreva um código modular que calcule e exiba a seletividade $αi$ em cada estágio e a fração $yi$ com base nos dados acima."
      ],
      "metadata": {
        "id": "ekOAPjPixAhQ"
      }
    },
    {
      "cell_type": "markdown",
      "source": [
        "**R:**"
      ],
      "metadata": {
        "id": "33Wi6g432cIl"
      }
    },
    {
      "cell_type": "code",
      "source": [
        "import numpy as np\n",
        "from dataclasses import dataclass, field #O spyder que sugeriu esse field e o adefault_factory pra funcionar o código, ai eu fui ver como funcionava\n",
        "\n",
        "#Classe\n",
        "@dataclass()\n",
        "class Dados_Estagios:\n",
        "    \"\"\"\n",
        "    Classe que armazena os dados dos estágios de um processo,\n",
        "    contendo as frações molares de etanol na fase líquida (x) e as temperaturas (T).\n",
        "\n",
        "    Atributos:\n",
        "    ----------\n",
        "    x : np.ndarray\n",
        "        Array com as frações molares na fase líquida de etanol para cada estágio.\n",
        "    T : np.ndarray\n",
        "        Array com as temperaturas correspondentes a cada estágio (°C).\n",
        "    \"\"\"\n",
        "    x: np.ndarray = field(default_factory=lambda: np.array([0.20, 0.40, 0.60]))\n",
        "    T: np.ndarray = field(default_factory=lambda: np.array([78, 80, 85]))"
      ],
      "metadata": {
        "id": "qxjP7u921jli"
      },
      "execution_count": 10,
      "outputs": []
    },
    {
      "cell_type": "code",
      "source": [
        "#Módulo - Funções\n",
        "def alfa(params):\n",
        "    \"\"\"\n",
        "    Calcula o coeficiente alfa com base na temperatura fornecida.\n",
        "\n",
        "    Parâmetros:\n",
        "    -----------\n",
        "    temperaturas : float ou np.ndarray\n",
        "        Temperatura(s) em °C para cálculo do coeficiente alfa.\n",
        "\n",
        "    Retorna:\n",
        "    --------\n",
        "    float ou np.ndarray\n",
        "        Valor(es) do coeficiente alfa para a(s) temperatura(s) fornecida(s).\n",
        "    \"\"\"\n",
        "    func = 2.5 - (0.01*(params.T - 78))\n",
        "    return func\n",
        "\n",
        "def Equilibrio(params):\n",
        "    \"\"\"\n",
        "    Calcula a fração molar na fase vapor em equilíbrio para cada estágio,\n",
        "    usando a relação com o coeficiente alfa e a fração molar na fase líquida.\n",
        "\n",
        "    Parâmetros:\n",
        "    -----------\n",
        "    params : Dados_Estagios\n",
        "        Instância contendo os dados dos estágios (x e T).\n",
        "\n",
        "    Retorna:\n",
        "    --------\n",
        "    list\n",
        "        Lista com as frações molares na fase vapor em equilíbrio para cada estágio.\n",
        "    \"\"\"\n",
        "    y = []\n",
        "    for i in range(len(params.x)):\n",
        "        yi = (alfa(params.T[i]) * params.x[i])/(1 + ((alfa(params.T[i]) - 1) * params.x[i]))\n",
        "        y.append(yi)\n",
        "    return y"
      ],
      "metadata": {
        "id": "hRxB5QcOJM1P"
      },
      "execution_count": 11,
      "outputs": []
    },
    {
      "cell_type": "code",
      "source": [
        "#Módulo - Imprime os resultados\n",
        "params = Dados_Estagios()\n",
        "y_Valores = Equilibrio(params)\n",
        "\n",
        "for i in range(len(y_Valores)):\n",
        "    print(f\"Para o estagio {i + 1}, o equilíbrio é {y_Valores[i]:.4f}\")"
      ],
      "metadata": {
        "colab": {
          "base_uri": "https://localhost:8080/"
        },
        "id": "N_j2PbLf4yJY",
        "outputId": "13e35434-caf3-46d2-a635-4ce2dfc91f5f"
      },
      "execution_count": 12,
      "outputs": [
        {
          "output_type": "stream",
          "name": "stdout",
          "text": [
            "Para o estagio 1, o equilíbrio é 0.3846\n",
            "Para o estagio 2, o equilíbrio é 0.6231\n",
            "Para o estagio 3, o equilíbrio é 0.7847\n"
          ]
        }
      ]
    }
  ]
}