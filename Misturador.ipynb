{
  "nbformat": 4,
  "nbformat_minor": 0,
  "metadata": {
    "colab": {
      "provenance": [],
      "authorship_tag": "ABX9TyMs6FQB8e+nyeTrkpIe3/cX",
      "include_colab_link": true
    },
    "kernelspec": {
      "name": "python3",
      "display_name": "Python 3"
    },
    "language_info": {
      "name": "python"
    }
  },
  "cells": [
    {
      "cell_type": "markdown",
      "metadata": {
        "id": "view-in-github",
        "colab_type": "text"
      },
      "source": [
        "<a href=\"https://colab.research.google.com/github/MatheusFiebig123/AulaFCE/blob/main/Misturador.ipynb\" target=\"_parent\"><img src=\"https://colab.research.google.com/assets/colab-badge.svg\" alt=\"Open In Colab\"/></a>"
      ]
    },
    {
      "cell_type": "code",
      "execution_count": 1,
      "metadata": {
        "colab": {
          "base_uri": "https://localhost:8080/"
        },
        "id": "Nvb7zAer6ccm",
        "outputId": "d016e6fe-010f-467f-a5b8-0d9e086d5237"
      },
      "outputs": [
        {
          "output_type": "stream",
          "name": "stdout",
          "text": [
            "A vazão de saída é: 100.00 kg/h e a concentração se sal de saida é 0.23\n"
          ]
        },
        {
          "output_type": "execute_result",
          "data": {
            "text/plain": [
              "(100.0, 0.225)"
            ]
          },
          "metadata": {},
          "execution_count": 1
        }
      ],
      "source": [
        "def Misturador(VazãoA, VazãoB, ConcentraçãoSalA, ConcentraçãoSalB):\n",
        "    '''\n",
        "\n",
        "    Parametros\n",
        "    ----------\n",
        "    VazãoA : flaot\n",
        "        Vazão da corrente A.\n",
        "    VazãoB : float\n",
        "        Vazão da corrente B.\n",
        "    ConcentraçãoSalA : float\n",
        "        Concentração da corrente A em %.\n",
        "    ConcentraçãoSalB : float\n",
        "        Concentração da corrente B em %.\n",
        "\n",
        "    Retorna\n",
        "    -------\n",
        "    VazãoSaida : float\n",
        "        Vazão de saida do misturador.\n",
        "    ConcentraçãoSaida : float\n",
        "        Concentração de saida do misturador.\n",
        "\n",
        "    '''\n",
        "    #try:\n",
        "\n",
        "    VazãoSaida = VazãoA + VazãoB\n",
        "    ConcentraçãoSaida = ((ConcentraçãoSalA/100)*VazãoA + (ConcentraçãoSalB/100)*VazãoB)/VazãoSaida\n",
        "    #if VazãoSaida\n",
        "    print(f\"A vazão de saída é: {VazãoSaida:.2f} kg/h e a concentração se sal de saida é {ConcentraçãoSaida:.2f}\")\n",
        "    return VazãoSaida, ConcentraçãoSaida\n",
        "\n",
        "Misturador(100*0.5, 50, 10*1.5, 30)"
      ]
    }
  ]
}